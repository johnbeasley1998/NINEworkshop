{
  "nbformat": 4,
  "nbformat_minor": 0,
  "metadata": {
    "colab": {
      "name": "GalaxyClassifier_MRodriguez.ipynb",
      "provenance": [],
      "collapsed_sections": [],
      "include_colab_link": true
    },
    "kernelspec": {
      "name": "python3",
      "display_name": "Python 3"
    }
  },
  "cells": [
    {
      "cell_type": "markdown",
      "metadata": {
        "id": "view-in-github",
        "colab_type": "text"
      },
      "source": [
        "<a href=\"https://colab.research.google.com/github/johnbeasley1998/NINEworkshop/blob/master/VLASS_Classifier.ipynb\" target=\"_parent\"><img src=\"https://colab.research.google.com/assets/colab-badge.svg\" alt=\"Open In Colab\"/></a>"
      ]
    },
    {
      "cell_type": "markdown",
      "metadata": {
        "id": "fKxwC3zNdOhG",
        "colab_type": "text"
      },
      "source": [
        "**Galaxy Classification**\n",
        "* We will start from scratch with 4 galaxy classifications. This data is not curated\n",
        "* 4 categories: diffuse, disturbed, multiple, single\n",
        "* Images are monocromatic 960x960 pi\n",
        "* Series of 921 600 px\n",
        "\n",
        "Steps:\n",
        "1. Download data\n",
        "2. Mount our Colab Drive\n",
        "3. Load the data\n",
        "4. Separate out training and validation data\n",
        "\n",
        "Data is structured as:\n",
        "* ./images\n",
        "  * ./train\n",
        "    * ./shape1\n",
        "    * ./shape2\n",
        "    * ./shape3\n",
        "  * ./valid\n",
        "    * ./shape1\n",
        "    * ./shape2\n",
        "    * ./shape3"
      ]
    },
    {
      "cell_type": "code",
      "metadata": {
        "id": "d-FFhdK7fgNo",
        "colab_type": "code",
        "colab": {}
      },
      "source": [
        "#Methods to read data\n",
        "import os\n",
        "import torch\n",
        "import torchvision\n",
        "from torchvision.datasets import ImageFolder\n",
        "import torchvision.transforms as transforms\n",
        "from torch.autograd import Variable\n",
        "\n",
        "\n"
      ],
      "execution_count": null,
      "outputs": []
    },
    {
      "cell_type": "code",
      "metadata": {
        "id": "e94RzuoWQwYe",
        "colab_type": "code",
        "colab": {}
      },
      "source": [
        "train = ImageFolder('/srv/data/my_shared_data_folder/v3/train/', simple_transform)\n",
        "valid = ImageFolder('/srv/data/my_shared_data_folder/v3/valid/', simple_transform)\n",
        "# No noisy images yet\n",
        "# noisy_train = ImageFolder('/content/drive/My Drive/NINE/Collab/PyTorch/PyTorch - ImageClassifier/GalaxyClassifier/images/noisy/train')\n",
        "# noisy_valid = ImageFolder('/content/drive/My Drive/NINE/Collab/PyTorch/PyTorch - ImageClassifier/GalaxyClassifier/images/noisy/valid')"
      ],
      "execution_count": null,
      "outputs": []
    },
    {
      "cell_type": "code",
      "metadata": {
        "id": "UVN2dN_5hh58",
        "colab_type": "code",
        "colab": {
          "base_uri": "https://localhost:8080/",
          "height": 139
        },
        "outputId": "b8b0b957-2688-46af-eb3a-660a0a9fcd6a"
      },
      "source": [
        "#LOAD YOUR DATA HERE\n",
        "print(train)\n",
        "type(train)\n",
        "\n",
        "# print(noisy_train)\n",
        "# type(noisy_train)\n",
        "\n",
        "print(valid)\n",
        "type(valid)\n",
        "\n",
        "# print(noisy_valid)\n",
        "# type(noisy_valid)"
      ],
      "execution_count": null,
      "outputs": [
        {
          "output_type": "stream",
          "text": [
            "Dataset ImageFolder\n",
            "    Number of datapoints: 344\n",
            "    Root location: /content/drive/My Drive/NINE/Collab/PyTorch/PyTorch - ImageClassifier/GalaxyClassifier/images/v1/train\n",
            "Dataset ImageFolder\n",
            "    Number of datapoints: 125\n",
            "    Root location: /content/drive/My Drive/NINE/Collab/PyTorch/PyTorch - ImageClassifier/GalaxyClassifier/images/v1/valid\n"
          ],
          "name": "stdout"
        },
        {
          "output_type": "execute_result",
          "data": {
            "text/plain": [
              "torchvision.datasets.folder.ImageFolder"
            ]
          },
          "metadata": {
            "tags": []
          },
          "execution_count": 3
        }
      ]
    },
    {
      "cell_type": "code",
      "metadata": {
        "id": "1Cjf8yP9XpfA",
        "colab_type": "code",
        "colab": {
          "base_uri": "https://localhost:8080/",
          "height": 35
        },
        "outputId": "bbcf06ed-cdd6-4c3d-eb3e-080630c3897e"
      },
      "source": [
        "train.class_to_idx"
      ],
      "execution_count": null,
      "outputs": [
        {
          "output_type": "execute_result",
          "data": {
            "text/plain": [
              "{'diffuse': 0, 'disturbed': 1, 'multiple': 2, 'single': 3}"
            ]
          },
          "metadata": {
            "tags": []
          },
          "execution_count": 4
        }
      ]
    },
    {
      "cell_type": "code",
      "metadata": {
        "id": "xcyVxz30cEwg",
        "colab_type": "code",
        "colab": {}
      },
      "source": [
        "# noisy_train.class_to_idx"
      ],
      "execution_count": null,
      "outputs": []
    },
    {
      "cell_type": "code",
      "metadata": {
        "id": "BGI039aUXy92",
        "colab_type": "code",
        "colab": {
          "base_uri": "https://localhost:8080/",
          "height": 35
        },
        "outputId": "d4d7f063-6648-41c1-e9bb-66a8597c97dc"
      },
      "source": [
        "valid.class_to_idx"
      ],
      "execution_count": null,
      "outputs": [
        {
          "output_type": "execute_result",
          "data": {
            "text/plain": [
              "{'diffuse': 0, 'disturbed': 1, 'multiple': 2, 'single': 3}"
            ]
          },
          "metadata": {
            "tags": []
          },
          "execution_count": 29
        }
      ]
    },
    {
      "cell_type": "code",
      "metadata": {
        "id": "M7IRaA6Ne8Yn",
        "colab_type": "code",
        "colab": {}
      },
      "source": [
        "# noisy_valid.class_to_idx"
      ],
      "execution_count": null,
      "outputs": []
    },
    {
      "cell_type": "code",
      "metadata": {
        "id": "2_exs64JX6gF",
        "colab_type": "code",
        "colab": {
          "base_uri": "https://localhost:8080/",
          "height": 87
        },
        "outputId": "0033b686-3214-4bf0-ca57-1f32126b1f3f"
      },
      "source": [
        "for key, value in train.class_to_idx.items():\n",
        "  print('Class is: ', key, ', Index is: ', value)"
      ],
      "execution_count": null,
      "outputs": [
        {
          "output_type": "stream",
          "text": [
            "Class is:  diffuse , Index is:  0\n",
            "Class is:  disturbed , Index is:  1\n",
            "Class is:  multiple , Index is:  2\n",
            "Class is:  single , Index is:  3\n"
          ],
          "name": "stdout"
        }
      ]
    },
    {
      "cell_type": "markdown",
      "metadata": {
        "id": "3mYwmUL4hzdN",
        "colab_type": "text"
      },
      "source": [
        "**Next steps**\n",
        "1. Data is already loaded into 2 variables: train and validate\n",
        "2. Identify the modules you will need for the classifier\n"
      ]
    },
    {
      "cell_type": "code",
      "metadata": {
        "id": "vf-0_BRkhxZm",
        "colab_type": "code",
        "colab": {}
      },
      "source": [
        "import torch #Main torch library\n",
        "import torch.nn as nn #Neural Network module, we will build our class\n",
        "import torchvision #Used earlier for data import\n",
        "import torchvision.transforms as transforms\n",
        "import torch.nn.functional as F"
      ],
      "execution_count": null,
      "outputs": []
    },
    {
      "cell_type": "markdown",
      "metadata": {
        "id": "-xoeku77jNRo",
        "colab_type": "text"
      },
      "source": [
        "We need to display some sample images. It's best to import with matplotlib. Also import numpy for good measure."
      ]
    },
    {
      "cell_type": "code",
      "metadata": {
        "id": "YzkIvGqqjT-Q",
        "colab_type": "code",
        "colab": {}
      },
      "source": [
        "import matplotlib.pyplot as plt\n",
        "import numpy as np"
      ],
      "execution_count": null,
      "outputs": []
    },
    {
      "cell_type": "code",
      "metadata": {
        "id": "IB5LKYR-jYbU",
        "colab_type": "code",
        "colab": {}
      },
      "source": [
        "#Build the image display function\n",
        "#Let's use our previous example as a boiler plate\n",
        "#Lets use the PyTorch built in display method, using the python imaging Library\n",
        "#PIL or Pillow\n",
        "from PIL import Image\n",
        "import random\n",
        "\n",
        "def imshow(img):\n",
        "  img = img/2+0.5 #unnormalize\n",
        "  npimg = img.numpy()\n",
        "  plt.imshow(np.transpose(npimg, (1, 2, 0)))\n",
        "  plt.show()\n"
      ],
      "execution_count": null,
      "outputs": []
    },
    {
      "cell_type": "code",
      "metadata": {
        "id": "ucerCGZSklIn",
        "colab_type": "code",
        "colab": {
          "base_uri": "https://localhost:8080/",
          "height": 204
        },
        "outputId": "a1956b24-ac65-485c-fd9b-693098a7a41b"
      },
      "source": [
        "#Get random images\n",
        "rand_array = []\n",
        "\n",
        "for i in range(3):\n",
        "  rand_image_index = random.randint(0, len(train))\n",
        "  rand_array.append(rand_image_index)\n",
        "\n",
        "print(rand_array)\n",
        "\n",
        "#This can be improved with another image show method\n",
        "fig = plt.figure(figsize=(10,5), facecolor='white', edgecolor='black')\n",
        "ax1 = fig.add_subplot(141)\n",
        "ax1.imshow(train[rand_array[0]][0], origin='lower')\n",
        "\n",
        "ax2 = fig.add_subplot(142)\n",
        "ax2.imshow(train[rand_array[1]][0], origin='lower')\n",
        "\n",
        "ax3 = fig.add_subplot(143)\n",
        "ax3.imshow(train[rand_array[2]][0], origin='lower')\n",
        "print(train[rand_array[0]][1], train[rand_array[1]][1], train[rand_array[2]][1])\n",
        "#train.class_to_idx.items()\n",
        "#{'circle': 0, 'square': 1, 'star': 2, 'triangle': 3}"
      ],
      "execution_count": null,
      "outputs": [
        {
          "output_type": "stream",
          "text": [
            "[93, 172, 77]\n",
            "2 2 1\n"
          ],
          "name": "stdout"
        },
        {
          "output_type": "display_data",
          "data": {
            "image/png": "[encoded data removed]",
            "text/plain": [
              "<Figure size 720x360 with 3 Axes>"
            ]
          },
          "metadata": {
            "tags": []
          }
        }
      ]
    },
    {
      "cell_type": "markdown",
      "metadata": {
        "id": "jvlqSSINlSt1",
        "colab_type": "text"
      },
      "source": [
        "**Define NN**"
      ]
    },
    {
      "cell_type": "code",
      "metadata": {
        "id": "NS74H5yilX7V",
        "colab_type": "code",
        "colab": {}
      },
      "source": [
        "import torch.nn as nn\n",
        "import torch.nn.functional as F\n",
        "\n",
        "class Net(nn.Module):\n",
        "  def __init__(self):\n",
        "    super(Net, self).__init__()\n",
        "    #in channel\n",
        "    #Two convolution kernels\n",
        "    self.conv1 = nn.Conv2d(3, 10, kernel_size=5)\n",
        "    self.conv2 = nn.Conv2d(10, 20, kernel_size=5)\n",
        "    self.conv2_drop = nn.Dropout2d()\n",
        "    self.fc1 = nn.Linear(3380, 50) #Transformation variable\n",
        "    # 921 600\n",
        "    self.fc2 = nn.Linear(50, 4)\n",
        "\n",
        "#Forward method is basically a recursion relationship\n",
        "  def forward(self, x):\n",
        "    x = F.relu(F.max_pool2d(self.conv1(x), 2))\n",
        "    x = F.relu(F.max_pool2d(self.conv2_drop(self.conv2(x)), 2))\n",
        "    x = x.view(x.size(0), -1) #Resize\n",
        "    x = F.relu(self.fc1(x))\n",
        "    x = F.dropout(x, training=self.training) #Inherited from nn.Module\n",
        "    x = F.relu(self.fc2(x))\n",
        "    \n",
        "    return F.log_softmax(x, dim=1)\n",
        "\n",
        "model = Net()"
      ],
      "execution_count": null,
      "outputs": []
    },
    {
      "cell_type": "code",
      "metadata": {
        "id": "GOTenGIlCha2",
        "colab_type": "code",
        "colab": {
          "base_uri": "https://localhost:8080/",
          "height": 35
        },
        "outputId": "c67cfcd6-24ae-44cc-ec65-0100ce366ee7"
      },
      "source": [
        "type(model)"
      ],
      "execution_count": null,
      "outputs": [
        {
          "output_type": "execute_result",
          "data": {
            "text/plain": [
              "__main__.Net"
            ]
          },
          "metadata": {
            "tags": []
          },
          "execution_count": 7
        }
      ]
    },
    {
      "cell_type": "code",
      "metadata": {
        "id": "sMtSW4OACkPr",
        "colab_type": "code",
        "colab": {
          "base_uri": "https://localhost:8080/",
          "height": 139
        },
        "outputId": "12c04b1c-9071-44a6-ba8a-ad99032cd451"
      },
      "source": [
        "print(model) #Print out model"
      ],
      "execution_count": null,
      "outputs": [
        {
          "output_type": "stream",
          "text": [
            "Net(\n",
            "  (conv1): Conv2d(3, 10, kernel_size=(5, 5), stride=(1, 1))\n",
            "  (conv2): Conv2d(10, 20, kernel_size=(5, 5), stride=(1, 1))\n",
            "  (conv2_drop): Dropout2d(p=0.5, inplace=False)\n",
            "  (fc1): Linear(in_features=3380, out_features=50, bias=True)\n",
            "  (fc2): Linear(in_features=50, out_features=4, bias=True)\n",
            ")\n"
          ],
          "name": "stdout"
        }
      ]
    },
    {
      "cell_type": "code",
      "metadata": {
        "id": "QU1CICxzlq23",
        "colab_type": "code",
        "colab": {
          "base_uri": "https://localhost:8080/",
          "height": 156
        },
        "outputId": "033c4dec-2af2-4876-b66d-83f46678b0b8"
      },
      "source": [
        "# Define an optimizer\n",
        "import torch.optim as optim\n",
        "\n",
        "criterion = nn.CrossEntropyLoss()\n",
        "optimizer = optim.SGD(model.parameters(), lr=0.001, momentum=0.05) #Brian used momentum=5\n",
        "optimizer"
      ],
      "execution_count": null,
      "outputs": [
        {
          "output_type": "execute_result",
          "data": {
            "text/plain": [
              "SGD (\n",
              "Parameter Group 0\n",
              "    dampening: 0\n",
              "    lr: 0.001\n",
              "    momentum: 0.05\n",
              "    nesterov: False\n",
              "    weight_decay: 0\n",
              ")"
            ]
          },
          "metadata": {
            "tags": []
          },
          "execution_count": 6
        }
      ]
    },
    {
      "cell_type": "code",
      "metadata": {
        "id": "biz8DT-Fymjl",
        "colab_type": "code",
        "colab": {
          "base_uri": "https://localhost:8080/",
          "height": 35
        },
        "outputId": "0d5ccf9e-ca62-4356-815b-7587c72d9f5e"
      },
      "source": [
        "#Transforming data to tensor so it can be used by the network\n",
        "#Also normalize the data, so it's between -1 to 1. Supply the mean and std \n",
        "#We need a transform matrix to resize our images and add the transformation parameters\n",
        "#transform = transforms.Compose([transforms.ToTensor(), transforms.Normalize((0.5,), (0.5,))])\n",
        "from torchvision import transforms\n",
        "from torchvision import models\n",
        "from torchvision import datasets\n",
        "\n",
        "simple_transform = transforms.Compose([transforms.Resize((64, 64)), transforms.ToTensor(), transforms.Normalize([0.485, 0.456, 0.406], [0.229, 0.224, 0.225])])\n",
        "trainset = ImageFolder('/content/drive/My Drive/NINE/Collab/PyTorch/PyTorch - ImageClassifier/GalaxyClassifier/images/v1/train', simple_transform)\n",
        "trainloader = torch.utils.data.DataLoader(trainset, batch_size=4, shuffle=True, num_workers=2)\n",
        "\n",
        "testset = ImageFolder('/content/drive/My Drive/NINE/Collab/PyTorch/PyTorch - ImageClassifier/GalaxyClassifier/images/v1/valid', simple_transform)\n",
        "testloader = torch.utils.data.DataLoader(testset, batch_size=4, shuffle=False, num_workers=2)\n",
        "\n",
        "classes = train.class_to_idx.keys()\n",
        "print(classes)\n"
      ],
      "execution_count": null,
      "outputs": [
        {
          "output_type": "stream",
          "text": [
            "dict_keys(['diffuse', 'disturbed', 'multiple', 'single'])\n"
          ],
          "name": "stdout"
        }
      ]
    },
    {
      "cell_type": "markdown",
      "metadata": {
        "id": "rcFauyd1laAf",
        "colab_type": "text"
      },
      "source": [
        "To use the NN class we need to define an optimizer.\n",
        "In order to utilize the new neural network class, we need to define an optimizer with torch.optim"
      ]
    },
    {
      "cell_type": "code",
      "metadata": {
        "id": "NByvZ9SOEfhz",
        "colab_type": "code",
        "colab": {}
      },
      "source": [
        "def fit(epoch, model, data_loader, phase='training', volatile=False):\n",
        "  if phase == 'training':\n",
        "    model.train()\n",
        "  elif phase == 'validation':\n",
        "    model.eval()\n",
        "    volatile=True\n",
        "  running_loss = 0.0\n",
        "  running_correct = 0.0\n",
        "\n",
        "  for batch_idx, (data, target) in enumerate(data_loader):\n",
        "    data, target = Variable(data, volatile), Variable(target)\n",
        "  \n",
        "    if phase == 'training':\n",
        "      optimizer.zero_grad()\n",
        "    output = model(data)\n",
        "    loss = F.nll_loss(output, target)\n",
        "\n",
        "    running_loss += F.nll_loss(output, target, size_average=False).data\n",
        "    preds = output.data.max(dim=1, keepdim=True)[1] \n",
        "    running_correct += preds.eq(target.data.view_as(preds)).cpu().sum()\n",
        "\n",
        "    if phase == 'training':\n",
        "      loss.backward()\n",
        "      optimizer.step()\n",
        "  loss = running_loss / len(data_loader.dataset)\n",
        "  accuracy = 100. * running_correct / len(data_loader.dataset)\n",
        "\n",
        "  print(f'{phase} loss is {loss} and {phase} accuracy is {running_correct} / {len(data_loader.dataset)} = {accuracy}')\n",
        "  return loss, accuracy\n"
      ],
      "execution_count": null,
      "outputs": []
    },
    {
      "cell_type": "code",
      "metadata": {
        "id": "RTObwYHuDiBN",
        "colab_type": "code",
        "colab": {}
      },
      "source": [
        "#Define loss function and accuracy\n",
        "train_losses, train_accuracy = [], []\n",
        "val_losses, val_accuracy = [], []\n",
        "\n",
        "train_data_loader = torch.utils.data.DataLoader(trainset,batch_size=32,num_workers=3,shuffle=True)\n",
        "valid_data_loader = torch.utils.data.DataLoader(testset,batch_size=32,num_workers=3,shuffle=True)"
      ],
      "execution_count": null,
      "outputs": []
    },
    {
      "cell_type": "code",
      "metadata": {
        "id": "dofgCuPSHtcw",
        "colab_type": "code",
        "colab": {
          "base_uri": "https://localhost:8080/",
          "height": 731
        },
        "outputId": "847cc255-f3a0-45ae-c15f-c5413fd9e44b"
      },
      "source": [
        "for epoch in range(1,20):\n",
        "  #train model\n",
        "  #validate\n",
        "  #update lists\n",
        "  #Make simple graph of loss function\n",
        "  epoch_loss, epoch_accuracy = fit(epoch, model, train_data_loader, phase='training')\n",
        "  val_epoch_loss, val_epoch_accuracy = fit(epoch, model, valid_data_loader, phase='validation')\n",
        "  train_losses.append(epoch_loss)\n",
        "  train_accuracy.append(epoch_accuracy)\n",
        "  val_losses.append(val_epoch_loss)\n",
        "  val_accuracy.append(val_epoch_accuracy)"
      ],
      "execution_count": null,
      "outputs": [
        {
          "output_type": "stream",
          "text": [
            "/usr/local/lib/python3.6/dist-packages/torch/nn/_reduction.py:43: UserWarning: size_average and reduce args will be deprecated, please use reduction='sum' instead.\n",
            "  warnings.warn(warning.format(ret))\n"
          ],
          "name": "stderr"
        },
        {
          "output_type": "stream",
          "text": [
            "training loss is 1.3031067848205566 and training accuracy is 154.0 / 344 = 44.76744079589844\n",
            "validation loss is 1.2541383504867554 and validation accuracy is 60.0 / 125 = 48.0\n",
            "training loss is 1.2950249910354614 and training accuracy is 153.0 / 344 = 44.47674560546875\n",
            "validation loss is 1.2211436033248901 and validation accuracy is 60.0 / 125 = 48.0\n",
            "training loss is 1.285151481628418 and training accuracy is 148.0 / 344 = 43.02325439453125\n",
            "validation loss is 1.213438868522644 and validation accuracy is 60.0 / 125 = 48.0\n",
            "training loss is 1.306555151939392 and training accuracy is 128.0 / 344 = 37.20930099487305\n",
            "validation loss is 1.2252732515335083 and validation accuracy is 60.0 / 125 = 48.0\n",
            "training loss is 1.2718003988265991 and training accuracy is 156.0 / 344 = 45.348838806152344\n",
            "validation loss is 1.2002454996109009 and validation accuracy is 60.0 / 125 = 48.0\n",
            "training loss is 1.2660902738571167 and training accuracy is 152.0 / 344 = 44.1860466003418\n",
            "validation loss is 1.1928458213806152 and validation accuracy is 60.0 / 125 = 48.0\n",
            "training loss is 1.2488791942596436 and training accuracy is 152.0 / 344 = 44.1860466003418\n",
            "validation loss is 1.1557554006576538 and validation accuracy is 60.0 / 125 = 48.0\n",
            "training loss is 1.2543988227844238 and training accuracy is 151.0 / 344 = 43.895347595214844\n",
            "validation loss is 1.1803598403930664 and validation accuracy is 60.0 / 125 = 48.0\n",
            "training loss is 1.2284069061279297 and training accuracy is 136.0 / 344 = 39.53488540649414\n",
            "validation loss is 1.1391292810440063 and validation accuracy is 60.0 / 125 = 48.0\n",
            "training loss is 1.2329387664794922 and training accuracy is 140.0 / 344 = 40.69767379760742\n",
            "validation loss is 1.1452367305755615 and validation accuracy is 60.0 / 125 = 48.0\n",
            "training loss is 1.2499579191207886 and training accuracy is 141.0 / 344 = 40.988372802734375\n",
            "validation loss is 1.138749122619629 and validation accuracy is 60.0 / 125 = 48.0\n",
            "training loss is 1.2561399936676025 and training accuracy is 152.0 / 344 = 44.1860466003418\n",
            "validation loss is 1.1688145399093628 and validation accuracy is 60.0 / 125 = 48.0\n",
            "training loss is 1.2267991304397583 and training accuracy is 153.0 / 344 = 44.47674560546875\n",
            "validation loss is 1.1556575298309326 and validation accuracy is 60.0 / 125 = 48.0\n",
            "training loss is 1.2134509086608887 and training accuracy is 154.0 / 344 = 44.76744079589844\n",
            "validation loss is 1.1256818771362305 and validation accuracy is 60.0 / 125 = 48.0\n",
            "training loss is 1.26039457321167 and training accuracy is 148.0 / 344 = 43.02325439453125\n",
            "validation loss is 1.1652746200561523 and validation accuracy is 60.0 / 125 = 48.0\n",
            "training loss is 1.224868655204773 and training accuracy is 152.0 / 344 = 44.1860466003418\n",
            "validation loss is 1.1532467603683472 and validation accuracy is 60.0 / 125 = 48.0\n",
            "training loss is 1.2380409240722656 and training accuracy is 153.0 / 344 = 44.47674560546875\n",
            "validation loss is 1.1382561922073364 and validation accuracy is 60.0 / 125 = 48.0\n",
            "training loss is 1.2258052825927734 and training accuracy is 158.0 / 344 = 45.930233001708984\n",
            "validation loss is 1.1625429391860962 and validation accuracy is 60.0 / 125 = 48.0\n",
            "training loss is 1.2244395017623901 and training accuracy is 156.0 / 344 = 45.348838806152344\n",
            "validation loss is 1.1207895278930664 and validation accuracy is 60.0 / 125 = 48.0\n"
          ],
          "name": "stdout"
        }
      ]
    },
    {
      "cell_type": "code",
      "metadata": {
        "id": "NLD547GuQhsg",
        "colab_type": "code",
        "colab": {
          "base_uri": "https://localhost:8080/",
          "height": 265
        },
        "outputId": "a867bf15-2845-41bf-c34b-bcdaf192c458"
      },
      "source": [
        "plt.plot(range(1, len(train_losses)+1), train_losses, 'bo', label='training loss')\n",
        "plt.plot(range(1, len(val_losses)+1), val_losses, 'r', label='validation loss')\n",
        "plt.legend()\n",
        "plt.show()"
      ],
      "execution_count": null,
      "outputs": [
        {
          "output_type": "display_data",
          "data": {
            "image/png": "[encoded data removed]",
            "text/plain": [
              "<Figure size 432x288 with 1 Axes>"
            ]
          },
          "metadata": {
            "tags": [],
            "needs_background": "light"
          }
        }
      ]
    },
    {
      "cell_type": "markdown",
      "metadata": {
        "id": "bH_wx_0OCTy2",
        "colab_type": "text"
      },
      "source": [
        "**Images V2**"
      ]
    },
    {
      "cell_type": "markdown",
      "metadata": {
        "id": "IjJDK41-6F1d",
        "colab_type": "text"
      },
      "source": [
        "**IMAGES VERSION 2**\n",
        "\n",
        "\n",
        "\n",
        "\n"
      ]
    },
    {
      "cell_type": "code",
      "metadata": {
        "id": "keHiKb1PqmZq",
        "colab_type": "code",
        "colab": {}
      },
      "source": [
        "noisy_train_losses, noisy_train_accuracy = [], []\n",
        "noisy_val_losses, noisy_val_accuracy = [], []"
      ],
      "execution_count": null,
      "outputs": []
    },
    {
      "cell_type": "code",
      "metadata": {
        "id": "CWJzLhqFgWP2",
        "colab_type": "code",
        "colab": {}
      },
      "source": [
        "from torchvision import transforms\n",
        "from torchvision import models\n",
        "from torchvision import datasets\n",
        "\n",
        "#Run this for noisy dataset\n",
        "# Noisy images data loader. We can use the same transform\n",
        "simple_transform = transforms.Compose([transforms.Resize((64, 64)), transforms.ToTensor(), transforms.Normalize([0.485, 0.456, 0.406], [0.229, 0.224, 0.225])])\n",
        "\n",
        "noisy_trainset = ImageFolder('/content/drive/My Drive/NINE/Collab/PyTorch/PyTorch - ImageClassifier/GalaxyClassifier/images/v2/train', simple_transform)\n",
        "noisy_trainloader = torch.utils.data.DataLoader(noisy_trainset, batch_size=32,num_workers=3,shuffle=True)\n",
        "\n",
        "noisy_testset = ImageFolder('/content/drive/My Drive/NINE/Collab/PyTorch/PyTorch - ImageClassifier/GalaxyClassifier/images/v2/valid', simple_transform)\n",
        "noisy_testloader = torch.utils.data.DataLoader(noisy_testset, batch_size=32,num_workers=3,shuffle=True)"
      ],
      "execution_count": null,
      "outputs": []
    },
    {
      "cell_type": "code",
      "metadata": {
        "id": "fPho2FBBgyfD",
        "colab_type": "code",
        "colab": {
          "base_uri": "https://localhost:8080/",
          "height": 384
        },
        "outputId": "22e504fc-476e-41e8-a97d-db0f6dc8156e"
      },
      "source": [
        "for epoch in range(1,10):\n",
        "  #train model\n",
        "  #validate\n",
        "  #update lists\n",
        "  #Make simple graph of loss function\n",
        "  epoch_loss, epoch_accuracy = fit(epoch, model, noisy_trainloader, phase='training')\n",
        "  val_epoch_loss, val_epoch_accuracy = fit(epoch, model, noisy_testloader, phase='validation')\n",
        "  noisy_train_losses.append(epoch_loss)\n",
        "  noisy_train_accuracy.append(epoch_accuracy)\n",
        "  noisy_val_losses.append(val_epoch_loss)\n",
        "  noisy_val_accuracy.append(val_epoch_accuracy)"
      ],
      "execution_count": null,
      "outputs": [
        {
          "output_type": "stream",
          "text": [
            "/usr/local/lib/python3.6/dist-packages/torch/nn/_reduction.py:43: UserWarning: size_average and reduce args will be deprecated, please use reduction='sum' instead.\n",
            "  warnings.warn(warning.format(ret))\n"
          ],
          "name": "stderr"
        },
        {
          "output_type": "stream",
          "text": [
            "training loss is 1.411766767501831 and training accuracy is 24.0 / 344 = 6.976744174957275\n",
            "validation loss is 1.3862178325653076 and validation accuracy is 40.0 / 125 = 32.0\n",
            "training loss is 1.3873040676116943 and training accuracy is 84.0 / 344 = 24.418603897094727\n",
            "validation loss is 1.385913372039795 and validation accuracy is 48.0 / 125 = 38.400001525878906\n",
            "training loss is 1.3688099384307861 and training accuracy is 108.0 / 344 = 31.395349502563477\n",
            "validation loss is 1.332714319229126 and validation accuracy is 60.0 / 125 = 48.0\n",
            "training loss is 1.3274098634719849 and training accuracy is 137.0 / 344 = 39.82558059692383\n",
            "validation loss is 1.243133783340454 and validation accuracy is 60.0 / 125 = 48.0\n",
            "training loss is 1.3275679349899292 and training accuracy is 136.0 / 344 = 39.53488540649414\n",
            "validation loss is 1.247147560119629 and validation accuracy is 60.0 / 125 = 48.0\n",
            "training loss is 1.3123618364334106 and training accuracy is 134.0 / 344 = 38.953487396240234\n",
            "validation loss is 1.2135790586471558 and validation accuracy is 60.0 / 125 = 48.0\n",
            "training loss is 1.2815589904785156 and training accuracy is 133.0 / 344 = 38.66279220581055\n",
            "validation loss is 1.1949799060821533 and validation accuracy is 60.0 / 125 = 48.0\n",
            "training loss is 1.2823339700698853 and training accuracy is 132.0 / 344 = 38.372093200683594\n",
            "validation loss is 1.1829451322555542 and validation accuracy is 60.0 / 125 = 48.0\n",
            "training loss is 1.2472920417785645 and training accuracy is 152.0 / 344 = 44.1860466003418\n",
            "validation loss is 1.1609408855438232 and validation accuracy is 60.0 / 125 = 48.0\n"
          ],
          "name": "stdout"
        }
      ]
    },
    {
      "cell_type": "code",
      "metadata": {
        "id": "8SlKeZObhDGi",
        "colab_type": "code",
        "colab": {
          "base_uri": "https://localhost:8080/",
          "height": 265
        },
        "outputId": "e6f9a374-5f94-4f51-b883-a279f63bd510"
      },
      "source": [
        "#Plot loss and accuracy for noisy dataset.\n",
        "plt.plot(range(1, len(noisy_train_losses)+1), noisy_train_losses, 'bo', label='noisy training loss')\n",
        "plt.plot(range(1, len(noisy_val_losses)+1), noisy_val_losses, 'r', label='noisy validation loss')\n",
        "plt.legend()\n",
        "plt.show()"
      ],
      "execution_count": null,
      "outputs": [
        {
          "output_type": "display_data",
          "data": {
            "image/png": "[encoded data removed]",
            "text/plain": [
              "<Figure size 432x288 with 1 Axes>"
            ]
          },
          "metadata": {
            "tags": [],
            "needs_background": "light"
          }
        }
      ]
    },
    {
      "cell_type": "markdown",
      "metadata": {
        "id": "sexylrlgQHwV",
        "colab_type": "text"
      },
      "source": [
        "**Images V3**\n",
        "\n",
        "**Reduced to 3 categories**"
      ]
    },
    {
      "cell_type": "code",
      "metadata": {
        "id": "039qfoxBQQM2",
        "colab_type": "code",
        "colab": {}
      },
      "source": [
        "v3_train_losses, v3_train_accuracy = [], []\n",
        "v3_val_losses, v3_val_accuracy = [], []"
      ],
      "execution_count": null,
      "outputs": []
    },
    {
      "cell_type": "code",
      "metadata": {
        "id": "_GiVNipeQfrg",
        "colab_type": "code",
        "colab": {}
      },
      "source": [
        "from torchvision import transforms\n",
        "from torchvision import models\n",
        "from torchvision import datasets\n",
        "\n",
        "#Run this for noisy dataset\n",
        "# Noisy images data loader. We can use the same transform\n",
        "simple_transform = transforms.Compose([transforms.Resize((64, 64)), transforms.ToTensor(), transforms.Normalize([0.485, 0.456, 0.406], [0.229, 0.224, 0.225])])\n",
        "\n",
        "noisy_trainset = ImageFolder('/content/drive/My Drive/NINE/Collab/PyTorch/PyTorch - ImageClassifier/GalaxyClassifier/images/v4/train', simple_transform)\n",
        "noisy_trainloader = torch.utils.data.DataLoader(noisy_trainset, batch_size=32,num_workers=3,shuffle=True)\n",
        "\n",
        "noisy_testset = ImageFolder('/content/drive/My Drive/NINE/Collab/PyTorch/PyTorch - ImageClassifier/GalaxyClassifier/images/v4/valid', simple_transform)\n",
        "noisy_testloader = torch.utils.data.DataLoader(noisy_testset, batch_size=32,num_workers=3,shuffle=True)"
      ],
      "execution_count": null,
      "outputs": []
    },
    {
      "cell_type": "code",
      "metadata": {
        "id": "l_IAX0SsQm08",
        "colab_type": "code",
        "colab": {
          "base_uri": "https://localhost:8080/",
          "height": 1000
        },
        "outputId": "7523a9dd-4e83-442e-f40f-5fb9c89977b5"
      },
      "source": [
        "for epoch in range(1,100):\n",
        "  #train model\n",
        "  #validate\n",
        "  #update lists\n",
        "  #Make simple graph of loss function\n",
        "  epoch_loss, epoch_accuracy = fit(epoch, model, noisy_trainloader, phase='training')\n",
        "  val_epoch_loss, val_epoch_accuracy = fit(epoch, model, noisy_testloader, phase='validation')\n",
        "  v3_train_losses.append(epoch_loss)\n",
        "  v3_train_accuracy.append(epoch_accuracy)\n",
        "  v3_val_losses.append(val_epoch_loss)\n",
        "  v3_val_accuracy.append(val_epoch_accuracy)"
      ],
      "execution_count": null,
      "outputs": [
        {
          "output_type": "stream",
          "text": [
            "/usr/local/lib/python3.6/dist-packages/torch/nn/_reduction.py:43: UserWarning: size_average and reduce args will be deprecated, please use reduction='sum' instead.\n",
            "  warnings.warn(warning.format(ret))\n"
          ],
          "name": "stderr"
        },
        {
          "output_type": "stream",
          "text": [
            "training loss is 1.2626874446868896 and training accuracy is 1047.0 / 1395 = 75.05376434326172\n",
            "validation loss is 1.1204850673675537 and validation accuracy is 373.0 / 469 = 79.53091430664062\n",
            "training loss is 0.911993145942688 and training accuracy is 1121.0 / 1395 = 80.3584213256836\n",
            "validation loss is 0.5868162512779236 and validation accuracy is 373.0 / 469 = 79.53091430664062\n",
            "training loss is 0.5881615281105042 and training accuracy is 1137.0 / 1395 = 81.50537872314453\n",
            "validation loss is 0.39843252301216125 and validation accuracy is 373.0 / 469 = 79.53091430664062\n",
            "training loss is 0.46519947052001953 and training accuracy is 1129.0 / 1395 = 80.93190002441406\n",
            "validation loss is 0.36353689432144165 and validation accuracy is 373.0 / 469 = 79.53091430664062\n",
            "training loss is 0.43346473574638367 and training accuracy is 1133.0 / 1395 = 81.21863555908203\n",
            "validation loss is 0.34810277819633484 and validation accuracy is 373.0 / 469 = 79.53091430664062\n",
            "training loss is 0.40723198652267456 and training accuracy is 1130.0 / 1395 = 81.00358581542969\n",
            "validation loss is 0.3411901891231537 and validation accuracy is 373.0 / 469 = 79.53091430664062\n",
            "training loss is 0.3927781581878662 and training accuracy is 1135.0 / 1395 = 81.36200714111328\n",
            "validation loss is 0.3356667459011078 and validation accuracy is 373.0 / 469 = 79.53091430664062\n",
            "training loss is 0.38899827003479004 and training accuracy is 1125.0 / 1395 = 80.6451644897461\n",
            "validation loss is 0.3303665220737457 and validation accuracy is 396.0 / 469 = 84.43496704101562\n",
            "training loss is 0.3741614818572998 and training accuracy is 1144.0 / 1395 = 82.00717163085938\n",
            "validation loss is 0.32460492849349976 and validation accuracy is 399.0 / 469 = 85.07462310791016\n",
            "training loss is 0.37315821647644043 and training accuracy is 1142.0 / 1395 = 81.86380004882812\n",
            "validation loss is 0.32185113430023193 and validation accuracy is 400.0 / 469 = 85.28784942626953\n",
            "training loss is 0.37386396527290344 and training accuracy is 1133.0 / 1395 = 81.21863555908203\n",
            "validation loss is 0.3208811283111572 and validation accuracy is 399.0 / 469 = 85.07462310791016\n",
            "training loss is 0.36125242710113525 and training accuracy is 1145.0 / 1395 = 82.07884979248047\n",
            "validation loss is 0.3182884752750397 and validation accuracy is 382.0 / 469 = 81.44989013671875\n",
            "training loss is 0.3682420253753662 and training accuracy is 1142.0 / 1395 = 81.86380004882812\n",
            "validation loss is 0.31783387064933777 and validation accuracy is 373.0 / 469 = 79.53091430664062\n",
            "training loss is 0.36968061327934265 and training accuracy is 1137.0 / 1395 = 81.50537872314453\n",
            "validation loss is 0.31326866149902344 and validation accuracy is 398.0 / 469 = 84.86140441894531\n",
            "training loss is 0.352203369140625 and training accuracy is 1149.0 / 1395 = 82.36559295654297\n",
            "validation loss is 0.3093815743923187 and validation accuracy is 398.0 / 469 = 84.86140441894531\n",
            "training loss is 0.3524336516857147 and training accuracy is 1134.0 / 1395 = 81.29032135009766\n",
            "validation loss is 0.30861616134643555 and validation accuracy is 396.0 / 469 = 84.43496704101562\n",
            "training loss is 0.35352131724357605 and training accuracy is 1144.0 / 1395 = 82.00717163085938\n",
            "validation loss is 0.30568230152130127 and validation accuracy is 400.0 / 469 = 85.28784942626953\n",
            "training loss is 0.35796022415161133 and training accuracy is 1138.0 / 1395 = 81.57706451416016\n",
            "validation loss is 0.30353209376335144 and validation accuracy is 400.0 / 469 = 85.28784942626953\n",
            "training loss is 0.35796916484832764 and training accuracy is 1127.0 / 1395 = 80.78852844238281\n",
            "validation loss is 0.30396318435668945 and validation accuracy is 400.0 / 469 = 85.28784942626953\n",
            "training loss is 0.3660011887550354 and training accuracy is 1120.0 / 1395 = 80.28673553466797\n",
            "validation loss is 0.30969691276550293 and validation accuracy is 373.0 / 469 = 79.53091430664062\n",
            "training loss is 0.3556624948978424 and training accuracy is 1129.0 / 1395 = 80.93190002441406\n",
            "validation loss is 0.3104119300842285 and validation accuracy is 373.0 / 469 = 79.53091430664062\n",
            "training loss is 0.35404062271118164 and training accuracy is 1129.0 / 1395 = 80.93190002441406\n",
            "validation loss is 0.30662065744400024 and validation accuracy is 395.0 / 469 = 84.22174835205078\n",
            "training loss is 0.3456992208957672 and training accuracy is 1144.0 / 1395 = 82.00717163085938\n",
            "validation loss is 0.3044787645339966 and validation accuracy is 373.0 / 469 = 79.53091430664062\n",
            "training loss is 0.35155579447746277 and training accuracy is 1144.0 / 1395 = 82.00717163085938\n",
            "validation loss is 0.30136361718177795 and validation accuracy is 398.0 / 469 = 84.86140441894531\n",
            "training loss is 0.3505162298679352 and training accuracy is 1120.0 / 1395 = 80.28673553466797\n",
            "validation loss is 0.2994209825992584 and validation accuracy is 400.0 / 469 = 85.28784942626953\n",
            "training loss is 0.35635876655578613 and training accuracy is 1131.0 / 1395 = 81.07527160644531\n",
            "validation loss is 0.30383291840553284 and validation accuracy is 373.0 / 469 = 79.53091430664062\n",
            "training loss is 0.3470157980918884 and training accuracy is 1132.0 / 1395 = 81.1469497680664\n",
            "validation loss is 0.3014795482158661 and validation accuracy is 400.0 / 469 = 85.28784942626953\n",
            "training loss is 0.34927767515182495 and training accuracy is 1140.0 / 1395 = 81.72042846679688\n",
            "validation loss is 0.30268317461013794 and validation accuracy is 373.0 / 469 = 79.53091430664062\n",
            "training loss is 0.34625381231307983 and training accuracy is 1146.0 / 1395 = 82.1505355834961\n",
            "validation loss is 0.29933422803878784 and validation accuracy is 400.0 / 469 = 85.28784942626953\n",
            "training loss is 0.34905433654785156 and training accuracy is 1145.0 / 1395 = 82.07884979248047\n",
            "validation loss is 0.2986317276954651 and validation accuracy is 400.0 / 469 = 85.28784942626953\n",
            "training loss is 0.3474331200122833 and training accuracy is 1134.0 / 1395 = 81.29032135009766\n",
            "validation loss is 0.2989256978034973 and validation accuracy is 398.0 / 469 = 84.86140441894531\n",
            "training loss is 0.3385554850101471 and training accuracy is 1145.0 / 1395 = 82.07884979248047\n",
            "validation loss is 0.29417672753334045 and validation accuracy is 400.0 / 469 = 85.28784942626953\n",
            "training loss is 0.3416171967983246 and training accuracy is 1130.0 / 1395 = 81.00358581542969\n",
            "validation loss is 0.2966018319129944 and validation accuracy is 396.0 / 469 = 84.43496704101562\n",
            "training loss is 0.3428526222705841 and training accuracy is 1128.0 / 1395 = 80.86021423339844\n",
            "validation loss is 0.29290783405303955 and validation accuracy is 400.0 / 469 = 85.28784942626953\n",
            "training loss is 0.3402682840824127 and training accuracy is 1135.0 / 1395 = 81.36200714111328\n",
            "validation loss is 0.2941480278968811 and validation accuracy is 400.0 / 469 = 85.28784942626953\n",
            "training loss is 0.3410241901874542 and training accuracy is 1136.0 / 1395 = 81.4336929321289\n",
            "validation loss is 0.2937210500240326 and validation accuracy is 400.0 / 469 = 85.28784942626953\n",
            "training loss is 0.33586499094963074 and training accuracy is 1147.0 / 1395 = 82.22222137451172\n",
            "validation loss is 0.2929999530315399 and validation accuracy is 400.0 / 469 = 85.28784942626953\n",
            "training loss is 0.3410252630710602 and training accuracy is 1143.0 / 1395 = 81.93548583984375\n",
            "validation loss is 0.2934393882751465 and validation accuracy is 400.0 / 469 = 85.28784942626953\n",
            "training loss is 0.3481823801994324 and training accuracy is 1126.0 / 1395 = 80.71684265136719\n",
            "validation loss is 0.2940646708011627 and validation accuracy is 397.0 / 469 = 84.64818572998047\n",
            "training loss is 0.3410448431968689 and training accuracy is 1135.0 / 1395 = 81.36200714111328\n",
            "validation loss is 0.29341915249824524 and validation accuracy is 398.0 / 469 = 84.86140441894531\n",
            "training loss is 0.33788660168647766 and training accuracy is 1141.0 / 1395 = 81.7921142578125\n",
            "validation loss is 0.2914488911628723 and validation accuracy is 400.0 / 469 = 85.28784942626953\n",
            "training loss is 0.3395666778087616 and training accuracy is 1141.0 / 1395 = 81.7921142578125\n",
            "validation loss is 0.29067835211753845 and validation accuracy is 400.0 / 469 = 85.28784942626953\n",
            "training loss is 0.33671724796295166 and training accuracy is 1141.0 / 1395 = 81.7921142578125\n",
            "validation loss is 0.2944701313972473 and validation accuracy is 373.0 / 469 = 79.53091430664062\n",
            "training loss is 0.3359982371330261 and training accuracy is 1134.0 / 1395 = 81.29032135009766\n",
            "validation loss is 0.2957610785961151 and validation accuracy is 373.0 / 469 = 79.53091430664062\n",
            "training loss is 0.3384481966495514 and training accuracy is 1139.0 / 1395 = 81.64874267578125\n",
            "validation loss is 0.2917250692844391 and validation accuracy is 399.0 / 469 = 85.07462310791016\n",
            "training loss is 0.33141228556632996 and training accuracy is 1146.0 / 1395 = 82.1505355834961\n",
            "validation loss is 0.29163578152656555 and validation accuracy is 373.0 / 469 = 79.53091430664062\n",
            "training loss is 0.33975329995155334 and training accuracy is 1130.0 / 1395 = 81.00358581542969\n",
            "validation loss is 0.29423660039901733 and validation accuracy is 373.0 / 469 = 79.53091430664062\n",
            "training loss is 0.33288678526878357 and training accuracy is 1146.0 / 1395 = 82.1505355834961\n",
            "validation loss is 0.2932337820529938 and validation accuracy is 373.0 / 469 = 79.53091430664062\n",
            "training loss is 0.33091622591018677 and training accuracy is 1142.0 / 1395 = 81.86380004882812\n",
            "validation loss is 0.2940817177295685 and validation accuracy is 373.0 / 469 = 79.53091430664062\n",
            "training loss is 0.33210474252700806 and training accuracy is 1141.0 / 1395 = 81.7921142578125\n",
            "validation loss is 0.29193946719169617 and validation accuracy is 373.0 / 469 = 79.53091430664062\n",
            "training loss is 0.33579063415527344 and training accuracy is 1141.0 / 1395 = 81.7921142578125\n",
            "validation loss is 0.2934458255767822 and validation accuracy is 373.0 / 469 = 79.53091430664062\n",
            "training loss is 0.3306966722011566 and training accuracy is 1131.0 / 1395 = 81.07527160644531\n",
            "validation loss is 0.2900347113609314 and validation accuracy is 373.0 / 469 = 79.53091430664062\n",
            "training loss is 0.3290567100048065 and training accuracy is 1146.0 / 1395 = 82.1505355834961\n",
            "validation loss is 0.28897571563720703 and validation accuracy is 373.0 / 469 = 79.53091430664062\n",
            "training loss is 0.33202698826789856 and training accuracy is 1149.0 / 1395 = 82.36559295654297\n",
            "validation loss is 0.28811049461364746 and validation accuracy is 373.0 / 469 = 79.53091430664062\n",
            "training loss is 0.3314967453479767 and training accuracy is 1141.0 / 1395 = 81.7921142578125\n",
            "validation loss is 0.2847726047039032 and validation accuracy is 392.0 / 469 = 83.58209228515625\n",
            "training loss is 0.33244290947914124 and training accuracy is 1131.0 / 1395 = 81.07527160644531\n",
            "validation loss is 0.2897609770298004 and validation accuracy is 373.0 / 469 = 79.53091430664062\n",
            "training loss is 0.33364349603652954 and training accuracy is 1140.0 / 1395 = 81.72042846679688\n",
            "validation loss is 0.2851126194000244 and validation accuracy is 400.0 / 469 = 85.28784942626953\n",
            "training loss is 0.3296416997909546 and training accuracy is 1148.0 / 1395 = 82.29390716552734\n",
            "validation loss is 0.2845158278942108 and validation accuracy is 400.0 / 469 = 85.28784942626953\n",
            "training loss is 0.32916146516799927 and training accuracy is 1145.0 / 1395 = 82.07884979248047\n",
            "validation loss is 0.28646379709243774 and validation accuracy is 397.0 / 469 = 84.64818572998047\n",
            "training loss is 0.3271554708480835 and training accuracy is 1128.0 / 1395 = 80.86021423339844\n",
            "validation loss is 0.2862907946109772 and validation accuracy is 395.0 / 469 = 84.22174835205078\n",
            "training loss is 0.33268988132476807 and training accuracy is 1132.0 / 1395 = 81.1469497680664\n",
            "validation loss is 0.2848318815231323 and validation accuracy is 399.0 / 469 = 85.07462310791016\n",
            "training loss is 0.3270483613014221 and training accuracy is 1148.0 / 1395 = 82.29390716552734\n",
            "validation loss is 0.28583547472953796 and validation accuracy is 397.0 / 469 = 84.64818572998047\n",
            "training loss is 0.3285702168941498 and training accuracy is 1140.0 / 1395 = 81.72042846679688\n",
            "validation loss is 0.2856397032737732 and validation accuracy is 373.0 / 469 = 79.53091430664062\n",
            "training loss is 0.32664549350738525 and training accuracy is 1139.0 / 1395 = 81.64874267578125\n",
            "validation loss is 0.2850170135498047 and validation accuracy is 373.0 / 469 = 79.53091430664062\n",
            "training loss is 0.32757797837257385 and training accuracy is 1132.0 / 1395 = 81.1469497680664\n",
            "validation loss is 0.28786900639533997 and validation accuracy is 373.0 / 469 = 79.53091430664062\n",
            "training loss is 0.3291444480419159 and training accuracy is 1145.0 / 1395 = 82.07884979248047\n",
            "validation loss is 0.28899696469306946 and validation accuracy is 373.0 / 469 = 79.53091430664062\n",
            "training loss is 0.3230546712875366 and training accuracy is 1141.0 / 1395 = 81.7921142578125\n",
            "validation loss is 0.2845754027366638 and validation accuracy is 373.0 / 469 = 79.53091430664062\n",
            "training loss is 0.3223397731781006 and training accuracy is 1144.0 / 1395 = 82.00717163085938\n",
            "validation loss is 0.28241005539894104 and validation accuracy is 400.0 / 469 = 85.28784942626953\n",
            "training loss is 0.32209455966949463 and training accuracy is 1147.0 / 1395 = 82.22222137451172\n",
            "validation loss is 0.28386908769607544 and validation accuracy is 392.0 / 469 = 83.58209228515625\n",
            "training loss is 0.33005291223526 and training accuracy is 1133.0 / 1395 = 81.21863555908203\n",
            "validation loss is 0.2818380892276764 and validation accuracy is 400.0 / 469 = 85.28784942626953\n",
            "training loss is 0.32673144340515137 and training accuracy is 1152.0 / 1395 = 82.58064270019531\n",
            "validation loss is 0.2806202471256256 and validation accuracy is 400.0 / 469 = 85.28784942626953\n",
            "training loss is 0.32487624883651733 and training accuracy is 1136.0 / 1395 = 81.4336929321289\n",
            "validation loss is 0.2802311182022095 and validation accuracy is 400.0 / 469 = 85.28784942626953\n",
            "training loss is 0.3247070014476776 and training accuracy is 1138.0 / 1395 = 81.57706451416016\n",
            "validation loss is 0.28362953662872314 and validation accuracy is 398.0 / 469 = 84.86140441894531\n",
            "training loss is 0.33013421297073364 and training accuracy is 1126.0 / 1395 = 80.71684265136719\n",
            "validation loss is 0.28020763397216797 and validation accuracy is 400.0 / 469 = 85.28784942626953\n",
            "training loss is 0.3284640610218048 and training accuracy is 1134.0 / 1395 = 81.29032135009766\n",
            "validation loss is 0.28014686703681946 and validation accuracy is 400.0 / 469 = 85.28784942626953\n",
            "training loss is 0.33063098788261414 and training accuracy is 1126.0 / 1395 = 80.71684265136719\n",
            "validation loss is 0.28500792384147644 and validation accuracy is 373.0 / 469 = 79.53091430664062\n",
            "training loss is 0.325590044260025 and training accuracy is 1129.0 / 1395 = 80.93190002441406\n",
            "validation loss is 0.2833014726638794 and validation accuracy is 373.0 / 469 = 79.53091430664062\n",
            "training loss is 0.32374516129493713 and training accuracy is 1138.0 / 1395 = 81.57706451416016\n",
            "validation loss is 0.2847066819667816 and validation accuracy is 373.0 / 469 = 79.53091430664062\n",
            "training loss is 0.32344475388526917 and training accuracy is 1131.0 / 1395 = 81.07527160644531\n",
            "validation loss is 0.28155478835105896 and validation accuracy is 400.0 / 469 = 85.28784942626953\n",
            "training loss is 0.323173850774765 and training accuracy is 1148.0 / 1395 = 82.29390716552734\n",
            "validation loss is 0.28346824645996094 and validation accuracy is 373.0 / 469 = 79.53091430664062\n",
            "training loss is 0.3216584324836731 and training accuracy is 1145.0 / 1395 = 82.07884979248047\n",
            "validation loss is 0.282524973154068 and validation accuracy is 373.0 / 469 = 79.53091430664062\n",
            "training loss is 0.3200570344924927 and training accuracy is 1140.0 / 1395 = 81.72042846679688\n",
            "validation loss is 0.28211769461631775 and validation accuracy is 380.0 / 469 = 81.02345275878906\n",
            "training loss is 0.3174172639846802 and training accuracy is 1128.0 / 1395 = 80.86021423339844\n",
            "validation loss is 0.2807912528514862 and validation accuracy is 400.0 / 469 = 85.28784942626953\n",
            "training loss is 0.32445579767227173 and training accuracy is 1133.0 / 1395 = 81.21863555908203\n",
            "validation loss is 0.27817627787590027 and validation accuracy is 400.0 / 469 = 85.28784942626953\n",
            "training loss is 0.32193320989608765 and training accuracy is 1128.0 / 1395 = 80.86021423339844\n",
            "validation loss is 0.28249505162239075 and validation accuracy is 398.0 / 469 = 84.86140441894531\n",
            "training loss is 0.31821176409721375 and training accuracy is 1156.0 / 1395 = 82.86738586425781\n",
            "validation loss is 0.2799120843410492 and validation accuracy is 400.0 / 469 = 85.28784942626953\n",
            "training loss is 0.3226248323917389 and training accuracy is 1146.0 / 1395 = 82.1505355834961\n",
            "validation loss is 0.2824210524559021 and validation accuracy is 373.0 / 469 = 79.53091430664062\n",
            "training loss is 0.3195395767688751 and training accuracy is 1136.0 / 1395 = 81.4336929321289\n",
            "validation loss is 0.282177597284317 and validation accuracy is 373.0 / 469 = 79.53091430664062\n",
            "training loss is 0.32143616676330566 and training accuracy is 1127.0 / 1395 = 80.78852844238281\n",
            "validation loss is 0.27758854627609253 and validation accuracy is 400.0 / 469 = 85.28784942626953\n",
            "training loss is 0.3193367123603821 and training accuracy is 1149.0 / 1395 = 82.36559295654297\n",
            "validation loss is 0.28130903840065 and validation accuracy is 392.0 / 469 = 83.58209228515625\n",
            "training loss is 0.3224335014820099 and training accuracy is 1142.0 / 1395 = 81.86380004882812\n",
            "validation loss is 0.28133952617645264 and validation accuracy is 383.0 / 469 = 81.66311645507812\n",
            "training loss is 0.32445910573005676 and training accuracy is 1148.0 / 1395 = 82.29390716552734\n",
            "validation loss is 0.28359392285346985 and validation accuracy is 373.0 / 469 = 79.53091430664062\n",
            "training loss is 0.3212417662143707 and training accuracy is 1145.0 / 1395 = 82.07884979248047\n",
            "validation loss is 0.28006741404533386 and validation accuracy is 388.0 / 469 = 82.72920989990234\n",
            "training loss is 0.322479248046875 and training accuracy is 1137.0 / 1395 = 81.50537872314453\n",
            "validation loss is 0.28371381759643555 and validation accuracy is 381.0 / 469 = 81.2366714477539\n",
            "training loss is 0.3186161518096924 and training accuracy is 1130.0 / 1395 = 81.00358581542969\n",
            "validation loss is 0.2809847891330719 and validation accuracy is 394.0 / 469 = 84.00852966308594\n",
            "training loss is 0.3192024230957031 and training accuracy is 1145.0 / 1395 = 82.07884979248047\n",
            "validation loss is 0.28405824303627014 and validation accuracy is 373.0 / 469 = 79.53091430664062\n",
            "training loss is 0.32283809781074524 and training accuracy is 1138.0 / 1395 = 81.57706451416016\n",
            "validation loss is 0.27964308857917786 and validation accuracy is 398.0 / 469 = 84.86140441894531\n",
            "training loss is 0.3207169771194458 and training accuracy is 1135.0 / 1395 = 81.36200714111328\n",
            "validation loss is 0.28329721093177795 and validation accuracy is 373.0 / 469 = 79.53091430664062\n",
            "training loss is 0.3188886046409607 and training accuracy is 1134.0 / 1395 = 81.29032135009766\n",
            "validation loss is 0.2843141257762909 and validation accuracy is 373.0 / 469 = 79.53091430664062\n"
          ],
          "name": "stdout"
        }
      ]
    },
    {
      "cell_type": "code",
      "metadata": {
        "id": "dgHPG-UxQopg",
        "colab_type": "code",
        "colab": {
          "base_uri": "https://localhost:8080/",
          "height": 265
        },
        "outputId": "d587a086-1edc-4f3f-c107-f1d3927f804c"
      },
      "source": [
        "#Plot loss and accuracy for v3 dataset.\n",
        "plt.plot(range(1, len(v3_train_losses)+1), v3_train_losses, 'bo', label='noisy training loss')\n",
        "plt.plot(range(1, len(v3_val_losses)+1), v3_val_losses, 'r', label='noisy validation loss')\n",
        "plt.legend()\n",
        "plt.show()"
      ],
      "execution_count": null,
      "outputs": [
        {
          "output_type": "display_data",
          "data": {
            "image/png": "[encoded data removed]",
            "text/plain": [
              "<Figure size 432x288 with 1 Axes>"
            ]
          },
          "metadata": {
            "tags": [],
            "needs_background": "light"
          }
        }
      ]
    }
  ]
}