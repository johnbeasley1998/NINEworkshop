{
  "nbformat": 4,
  "nbformat_minor": 0,
  "metadata": {
    "colab": {
      "name": "Tutorial-FITS.ipynb",
      "provenance": [],
      "include_colab_link": true
    },
    "kernelspec": {
      "display_name": "Python 3",
      "language": "python",
      "name": "python3"
    },
    "language_info": {
      "codemirror_mode": {
        "name": "ipython",
        "version": 3
      },
      "file_extension": ".py",
      "mimetype": "text/x-python",
      "name": "python",
      "nbconvert_exporter": "python",
      "pygments_lexer": "ipython3",
      "version": "3.7.6"
    }
  },
  "cells": [
    {
      "cell_type": "markdown",
      "metadata": {
        "id": "view-in-github",
        "colab_type": "text"
      },
      "source": [
        "<a href=\"https://colab.research.google.com/github/johnbeasley1998/NINEworkshop/blob/master/Tutorial_FITS.ipynb\" target=\"_parent\"><img src=\"https://colab.research.google.com/assets/colab-badge.svg\" alt=\"Open In Colab\"/></a>"
      ]
    },
    {
      "cell_type": "markdown",
      "metadata": {
        "colab_type": "text",
        "id": "lr0COXV9OjMX"
      },
      "source": [
        "<h1 style = \"text-align:center; color:black\";> FITS FILE TUTORIAL </h1>"
      ]
    },
    {
      "cell_type": "markdown",
      "metadata": {
        "id": "ArjW0j0xDmx5",
        "colab_type": "text"
      },
      "source": [
        "<h2 style=\"text-align:left; color:SeaGreen\";> Table of Contents </h2> \n",
        "\n",
        "1. [File Extensions](#one)\n",
        "\n",
        "2. [Description of Fits Files](#two)\n",
        "\n",
        "3. [VLASS and Downloading FITS Files](#three)\n",
        "\n",
        "4. [Objectives and Imports](#four)\n",
        "\n",
        "5. [Opening a FITS FILE](#five)\n",
        "\n",
        "6. [World Coordinate System](#six)\n",
        "   \n",
        "7. [Displaying FITS Image](#seven) \n",
        "    <br> 7.1 [Matplotlib](#seven1)\n",
        "    <br> 7.2 [AplPy](#seven2)\n",
        "\n",
        "\n",
        "\n",
        "\n"
      ]
    },
    {
      "cell_type": "markdown",
      "metadata": {
        "id": "tNZSw_qhDmx7",
        "colab_type": "text"
      },
      "source": [
        "<h2 style=\"color:SeaGreen\"> File Extensions </h2> \n",
        "<a id=\"one\"></a>"
      ]
    },
    {
      "cell_type": "markdown",
      "metadata": {
        "colab_type": "text",
        "id": "A61GrVg8OQmo"
      },
      "source": [
        "<p style=\"text-indent: 50px; font-size:16px;\"> Not all files are created equal in computing. For the computer to properly store and retrieve any file it must know how to encode the file and interact with it. More simply, all data is at some point 1's and 0's... for the computer to use these 1's and 0's in a meaningful way it must use what we call a 'file format' or 'extension'. You've likely seen these many times before following your file names: doc,pdf,jpeg, png, even gifs are just file extentions that signal to the computer to display file.doc as your homework and file.gif as a moving image of a cat doing something funny. This tutorial is going to be on the file extension used by astronomers to store data, <u><b>FITS files</b></u>. It will cover, <u><b>what</b></u> they are, <u><b>why</b></u> they are used, and <u><b>how</b></u> to download and display a fits file right here on this Jupyter Notebook. "
      ]
    },
    {
      "cell_type": "markdown",
      "metadata": {
        "id": "NKBFmedmDmx8",
        "colab_type": "text"
      },
      "source": [
        "<h2 style=\"color:SeaGreen\"> Description of Fits Files </h2> \n",
        "<a id=\"two\"></a>\n",
        "\n",
        "<p style=\"text-indent: 50px; font-size:16px;\"> Fits Stands for 'Flexible Image Transport System'. Flexible is the keyword in its title, and certainly not image, as <b><u>fits are used to handle and describe many different types of data and not always images</u></b>. FITS was designed (by astronomers) with astronomers in mind in order to <u><b>conviently store and trade astronomical data</b></u>; due to n-dimensional nature of space imaging, astronomical data can come in 1-D Spectra up to 3 (or more) dimensional cubes. <u><b>FITS can handle all these different dimensions of arrays, and comes with a complex header to describe any other associated variables.</b></u> This flexiblity, coupled with FITS' excellent archivability, makes it a standard for storing and analyzing astronomical data. <b><u>In this tutorial we will be using FITS files from the NRAO VLA Sky Survey.</u></b> These FITS images can be downloaded opened, and analyzed right in this notebook. <b><u> This tutorial can be used as a baseline refrence to opening and parsing data from this useful, univseral file type</u></b>. </p>  \n",
        "\n",
        "<p style=\"text-indent: 50px; font-size:16px;\"> The creation of FITS files is somewhat mysterious, and dates back to the 1970s. It was, in fact, created by NRAO for the purposes described above. Below you will be able to find <b><u>the earliest possible mention of it I could find on the internet</u></b>. Its a couple page article on page ~300 of an Astronomical publication from 1980. In it, it describes fits and its use as they saw it in 1980. It is written in part by Eric W. Greisen, an NRAO Scientist.</p>\n",
        "\n",
        "[This link](http://articles.adsabs.harvard.edu/full/seri/A+AS./0044//0000363.000.html)  will take go to page 363 of that exact article so you can see for yourself.\n"
      ]
    },
    {
      "cell_type": "markdown",
      "metadata": {
        "id": "YhNRLZocDmx8",
        "colab_type": "text"
      },
      "source": [
        "<h2 style=\"color:SeaGreen\"> VLASS and Downloading FITS Files</h2> \n",
        "<a id=\"three\"></a>"
      ]
    },
    {
      "cell_type": "code",
      "metadata": {
        "id": "Xt3w0sQ_Dmx9",
        "colab_type": "code",
        "colab": {},
        "outputId": "e32805ee-69cf-4214-a40b-e98e1317fe0a"
      },
      "source": [
        "#will display wikipedia\n",
        "from IPython.display import IFrame\n",
        "IFrame('https://science.nrao.edu/vlass', width=1000, height=500, border=12)"
      ],
      "execution_count": null,
      "outputs": [
        {
          "output_type": "execute_result",
          "data": {
            "text/html": [
              "\n",
              "        <iframe\n",
              "            width=\"1000\"\n",
              "            height=\"500\"\n",
              "            src=\"https://science.nrao.edu/vlass?border=12\"\n",
              "            frameborder=\"0\"\n",
              "            allowfullscreen\n",
              "        ></iframe>\n",
              "        "
            ],
            "text/plain": [
              "<IPython.lib.display.IFrame at 0x195d7d99c48>"
            ]
          },
          "metadata": {
            "tags": []
          },
          "execution_count": 7
        }
      ]
    },
    {
      "cell_type": "markdown",
      "metadata": {
        "id": "J072KZ-JDmyA",
        "colab_type": "text"
      },
      "source": [
        "<p style=\"text-indent: 50px; font-size:16px;\"> Above, you can find the VLA Sky Survey portion of the NRAO site. What is not mentioned on the site is that <b><u>the array of telescopes used to carry out VLASS return the data in the form of FITS Files</u></b>. This specific Sky Survey will cover 80% of the sky over the course of several years. <b><u> The skills that will be documented in this notebook can give ease to accesing analyzing a giant amount of astronomical data at an industry level. </u></b> The FITS file download can be found below.</p>"
      ]
    },
    {
      "cell_type": "markdown",
      "metadata": {
        "id": "xEjrcZCAl1iI",
        "colab_type": "text"
      },
      "source": [
        "<h2 style=\"color:SeaGreen\">Objectives & Imports</h2> \n",
        "<a id=\"four\"></a>"
      ]
    },
    {
      "cell_type": "markdown",
      "metadata": {
        "colab_type": "text",
        "id": "Fcx96KwTQ2SD"
      },
      "source": [
        "<p style=\"text-indent: 50px; font-size:16px;\">Now that our FITS file is downloaded, lets open it up with Python. <b><u>First we need to import the necessary python libraries that will accomplish our objectives</u></b>. Before importing its always a good idea to remind yourself what those objectives are so that you can import only the correct library and packages. </p.\n",
        "\n",
        "<br> <h3 style=\"color:LightSeaGreen\"> Our objectives are: </h3>\n",
        "- Open the VLASS FITS file and look at the HEADER and DATA\n",
        "- Extract the raw data from the FITS file\n",
        "- Use the information found in the header to make a world coordinate system \n",
        "- Create a 'World Array' of coordinates \n",
        "- Use the WCS t convert the world array to pixels on the image.\n",
        "- Create a cut out\n",
        "- Plot the Image (two ways)"
      ]
    },
    {
      "cell_type": "code",
      "metadata": {
        "colab_type": "code",
        "id": "LEJoQGEgQ_y9",
        "colab": {}
      },
      "source": [
        "#imports\n",
        "#Installing Astropy\n",
        "#!pip install astropy\n",
        "#Installing ApplePy  #One of the methods used to display the FITS IMAGE\n",
        "#!pip install aplpy \n",
        "\n",
        "from astropy.io import fits #Importing the Fits file reader from astropy. Used to open and read the header and data\n",
        "from astropy import wcs     #Importing the World Cooridnate System\n",
        "\n",
        "import os\n",
        "import numpy as np               #Always im\n",
        "import matplotlib.pyplot as plt\n",
        "import aplpy\n",
        "import matplotlib\n",
        "\n",
        "from astropy.visualization import astropy_mpl_style\n",
        "plt.style.use(astropy_mpl_style)\n",
        "\n",
        "\n",
        "\n",
        "# for image links: uc?export=view&id="
      ],
      "execution_count": null,
      "outputs": []
    },
    {
      "cell_type": "markdown",
      "metadata": {
        "id": "mER5KE4elyzo",
        "colab_type": "text"
      },
      "source": [
        "<h2 style=\"color:SeaGreen\"> Opening FITS File </h2> \n",
        "<a id=\"five\"></a>"
      ]
    },
    {
      "cell_type": "markdown",
      "metadata": {
        "colab_type": "text",
        "id": "0GizrvbqRcde"
      },
      "source": [
        "<p style=\"text-indent: 50px; font-size:16px;\"> Time to use the fits file we downloaded. <b><u> We need to open it up with Astropy's built in FITS file explorer</u></b>. Once the FITS file is in the Python Enviroment, we can beging to look at and modify the FITS image. <b><u> Astropy has built in functions that will allow us to\n",
        "    see the HEADER data</u></b> .... Finally, we need to <b><u>extract the raw data from inside so that we can use that to create our image</u></b>. </p>"
      ]
    },
    {
      "cell_type": "code",
      "metadata": {
        "colab_type": "code",
        "id": "gaw_jQR0Srrs",
        "colab": {
          "base_uri": "https://localhost:8080/",
          "height": 374
        },
        "outputId": "faa32903-bc89-44ac-c083-6198776fd357"
      },
      "source": [
        "#read from directory\n",
        "dir = '/srv/data/my_shared_data_folder/fits/'\n",
        "VFIT = dir+'LASSIE.fits'\n",
        "\n",
        "#open fits and extract data \n",
        "fits.info(VFIT)\n",
        "hdu = fits.open(VFIT)\n",
        "VFIT_raw = fits.getdata(VFIT)[0,0,:,:]\n"
      ],
      "execution_count": null,
      "outputs": [
        {
          "output_type": "error",
          "ename": "FileNotFoundError",
          "evalue": "ignored",
          "traceback": [
            "\u001b[0;31m---------------------------------------------------------------------------\u001b[0m",
            "\u001b[0;31mFileNotFoundError\u001b[0m                         Traceback (most recent call last)",
            "\u001b[0;32m<ipython-input-5-66d7fc93d871>\u001b[0m in \u001b[0;36m<module>\u001b[0;34m()\u001b[0m\n\u001b[1;32m      1\u001b[0m \u001b[0;31m#Opening fits into python enviroment\u001b[0m\u001b[0;34m\u001b[0m\u001b[0;34m\u001b[0m\u001b[0;34m\u001b[0m\u001b[0m\n\u001b[0;32m----> 2\u001b[0;31m \u001b[0mopenFITS\u001b[0m \u001b[0;34m=\u001b[0m \u001b[0mfits\u001b[0m\u001b[0;34m.\u001b[0m\u001b[0mopen\u001b[0m\u001b[0;34m(\u001b[0m\u001b[0mVLASSFIT\u001b[0m\u001b[0;34m)\u001b[0m\u001b[0;34m\u001b[0m\u001b[0;34m\u001b[0m\u001b[0m\n\u001b[0m\u001b[1;32m      3\u001b[0m \u001b[0;34m\u001b[0m\u001b[0m\n\u001b[1;32m      4\u001b[0m \u001b[0;31m#displaying information on FITS file\u001b[0m\u001b[0;34m\u001b[0m\u001b[0;34m\u001b[0m\u001b[0;34m\u001b[0m\u001b[0m\n\u001b[1;32m      5\u001b[0m \u001b[0mfits\u001b[0m\u001b[0;34m.\u001b[0m\u001b[0minfo\u001b[0m\u001b[0;34m(\u001b[0m\u001b[0mopenFITS\u001b[0m\u001b[0;34m)\u001b[0m\u001b[0;34m\u001b[0m\u001b[0;34m\u001b[0m\u001b[0m\n",
            "\u001b[0;32m/usr/local/lib/python3.6/dist-packages/astropy/io/fits/hdu/hdulist.py\u001b[0m in \u001b[0;36mfitsopen\u001b[0;34m(name, mode, memmap, save_backup, cache, lazy_load_hdus, **kwargs)\u001b[0m\n\u001b[1;32m    163\u001b[0m \u001b[0;34m\u001b[0m\u001b[0m\n\u001b[1;32m    164\u001b[0m     return HDUList.fromfile(name, mode, memmap, save_backup, cache,\n\u001b[0;32m--> 165\u001b[0;31m                             lazy_load_hdus, **kwargs)\n\u001b[0m\u001b[1;32m    166\u001b[0m \u001b[0;34m\u001b[0m\u001b[0m\n\u001b[1;32m    167\u001b[0m \u001b[0;34m\u001b[0m\u001b[0m\n",
            "\u001b[0;32m/usr/local/lib/python3.6/dist-packages/astropy/io/fits/hdu/hdulist.py\u001b[0m in \u001b[0;36mfromfile\u001b[0;34m(cls, fileobj, mode, memmap, save_backup, cache, lazy_load_hdus, **kwargs)\u001b[0m\n\u001b[1;32m    403\u001b[0m         return cls._readfrom(fileobj=fileobj, mode=mode, memmap=memmap,\n\u001b[1;32m    404\u001b[0m                              \u001b[0msave_backup\u001b[0m\u001b[0;34m=\u001b[0m\u001b[0msave_backup\u001b[0m\u001b[0;34m,\u001b[0m \u001b[0mcache\u001b[0m\u001b[0;34m=\u001b[0m\u001b[0mcache\u001b[0m\u001b[0;34m,\u001b[0m\u001b[0;34m\u001b[0m\u001b[0;34m\u001b[0m\u001b[0m\n\u001b[0;32m--> 405\u001b[0;31m                              lazy_load_hdus=lazy_load_hdus, **kwargs)\n\u001b[0m\u001b[1;32m    406\u001b[0m \u001b[0;34m\u001b[0m\u001b[0m\n\u001b[1;32m    407\u001b[0m     \u001b[0;34m@\u001b[0m\u001b[0mclassmethod\u001b[0m\u001b[0;34m\u001b[0m\u001b[0;34m\u001b[0m\u001b[0m\n",
            "\u001b[0;32m/usr/local/lib/python3.6/dist-packages/astropy/io/fits/hdu/hdulist.py\u001b[0m in \u001b[0;36m_readfrom\u001b[0;34m(cls, fileobj, data, mode, memmap, save_backup, cache, lazy_load_hdus, **kwargs)\u001b[0m\n\u001b[1;32m   1052\u001b[0m             \u001b[0;32mif\u001b[0m \u001b[0;32mnot\u001b[0m \u001b[0misinstance\u001b[0m\u001b[0;34m(\u001b[0m\u001b[0mfileobj\u001b[0m\u001b[0;34m,\u001b[0m \u001b[0m_File\u001b[0m\u001b[0;34m)\u001b[0m\u001b[0;34m:\u001b[0m\u001b[0;34m\u001b[0m\u001b[0;34m\u001b[0m\u001b[0m\n\u001b[1;32m   1053\u001b[0m                 \u001b[0;31m# instantiate a FITS file object (ffo)\u001b[0m\u001b[0;34m\u001b[0m\u001b[0;34m\u001b[0m\u001b[0;34m\u001b[0m\u001b[0m\n\u001b[0;32m-> 1054\u001b[0;31m                 \u001b[0mfileobj\u001b[0m \u001b[0;34m=\u001b[0m \u001b[0m_File\u001b[0m\u001b[0;34m(\u001b[0m\u001b[0mfileobj\u001b[0m\u001b[0;34m,\u001b[0m \u001b[0mmode\u001b[0m\u001b[0;34m=\u001b[0m\u001b[0mmode\u001b[0m\u001b[0;34m,\u001b[0m \u001b[0mmemmap\u001b[0m\u001b[0;34m=\u001b[0m\u001b[0mmemmap\u001b[0m\u001b[0;34m,\u001b[0m \u001b[0mcache\u001b[0m\u001b[0;34m=\u001b[0m\u001b[0mcache\u001b[0m\u001b[0;34m)\u001b[0m\u001b[0;34m\u001b[0m\u001b[0;34m\u001b[0m\u001b[0m\n\u001b[0m\u001b[1;32m   1055\u001b[0m             \u001b[0;31m# The Astropy mode is determined by the _File initializer if the\u001b[0m\u001b[0;34m\u001b[0m\u001b[0;34m\u001b[0m\u001b[0;34m\u001b[0m\u001b[0m\n\u001b[1;32m   1056\u001b[0m             \u001b[0;31m# supplied mode was None\u001b[0m\u001b[0;34m\u001b[0m\u001b[0;34m\u001b[0m\u001b[0;34m\u001b[0m\u001b[0m\n",
            "\u001b[0;32m/usr/local/lib/python3.6/dist-packages/astropy/utils/decorators.py\u001b[0m in \u001b[0;36mwrapper\u001b[0;34m(*args, **kwargs)\u001b[0m\n\u001b[1;32m    533\u001b[0m                     \u001b[0mwarnings\u001b[0m\u001b[0;34m.\u001b[0m\u001b[0mwarn\u001b[0m\u001b[0;34m(\u001b[0m\u001b[0mmessage\u001b[0m\u001b[0;34m,\u001b[0m \u001b[0mwarning_type\u001b[0m\u001b[0;34m,\u001b[0m \u001b[0mstacklevel\u001b[0m\u001b[0;34m=\u001b[0m\u001b[0;36m2\u001b[0m\u001b[0;34m)\u001b[0m\u001b[0;34m\u001b[0m\u001b[0;34m\u001b[0m\u001b[0m\n\u001b[1;32m    534\u001b[0m \u001b[0;34m\u001b[0m\u001b[0m\n\u001b[0;32m--> 535\u001b[0;31m             \u001b[0;32mreturn\u001b[0m \u001b[0mfunction\u001b[0m\u001b[0;34m(\u001b[0m\u001b[0;34m*\u001b[0m\u001b[0margs\u001b[0m\u001b[0;34m,\u001b[0m \u001b[0;34m**\u001b[0m\u001b[0mkwargs\u001b[0m\u001b[0;34m)\u001b[0m\u001b[0;34m\u001b[0m\u001b[0;34m\u001b[0m\u001b[0m\n\u001b[0m\u001b[1;32m    536\u001b[0m \u001b[0;34m\u001b[0m\u001b[0m\n\u001b[1;32m    537\u001b[0m         \u001b[0;32mreturn\u001b[0m \u001b[0mwrapper\u001b[0m\u001b[0;34m\u001b[0m\u001b[0;34m\u001b[0m\u001b[0m\n",
            "\u001b[0;32m/usr/local/lib/python3.6/dist-packages/astropy/io/fits/file.py\u001b[0m in \u001b[0;36m__init__\u001b[0;34m(self, fileobj, mode, memmap, overwrite, cache)\u001b[0m\n\u001b[1;32m    191\u001b[0m             \u001b[0mself\u001b[0m\u001b[0;34m.\u001b[0m\u001b[0m_open_fileobj\u001b[0m\u001b[0;34m(\u001b[0m\u001b[0mfileobj\u001b[0m\u001b[0;34m,\u001b[0m \u001b[0mmode\u001b[0m\u001b[0;34m,\u001b[0m \u001b[0moverwrite\u001b[0m\u001b[0;34m)\u001b[0m\u001b[0;34m\u001b[0m\u001b[0;34m\u001b[0m\u001b[0m\n\u001b[1;32m    192\u001b[0m         \u001b[0;32melif\u001b[0m \u001b[0misinstance\u001b[0m\u001b[0;34m(\u001b[0m\u001b[0mfileobj\u001b[0m\u001b[0;34m,\u001b[0m \u001b[0mstr\u001b[0m\u001b[0;34m)\u001b[0m\u001b[0;34m:\u001b[0m\u001b[0;34m\u001b[0m\u001b[0;34m\u001b[0m\u001b[0m\n\u001b[0;32m--> 193\u001b[0;31m             \u001b[0mself\u001b[0m\u001b[0;34m.\u001b[0m\u001b[0m_open_filename\u001b[0m\u001b[0;34m(\u001b[0m\u001b[0mfileobj\u001b[0m\u001b[0;34m,\u001b[0m \u001b[0mmode\u001b[0m\u001b[0;34m,\u001b[0m \u001b[0moverwrite\u001b[0m\u001b[0;34m)\u001b[0m\u001b[0;34m\u001b[0m\u001b[0;34m\u001b[0m\u001b[0m\n\u001b[0m\u001b[1;32m    194\u001b[0m         \u001b[0;32melse\u001b[0m\u001b[0;34m:\u001b[0m\u001b[0;34m\u001b[0m\u001b[0;34m\u001b[0m\u001b[0m\n\u001b[1;32m    195\u001b[0m             \u001b[0mself\u001b[0m\u001b[0;34m.\u001b[0m\u001b[0m_open_filelike\u001b[0m\u001b[0;34m(\u001b[0m\u001b[0mfileobj\u001b[0m\u001b[0;34m,\u001b[0m \u001b[0mmode\u001b[0m\u001b[0;34m,\u001b[0m \u001b[0moverwrite\u001b[0m\u001b[0;34m)\u001b[0m\u001b[0;34m\u001b[0m\u001b[0;34m\u001b[0m\u001b[0m\n",
            "\u001b[0;32m/usr/local/lib/python3.6/dist-packages/astropy/io/fits/file.py\u001b[0m in \u001b[0;36m_open_filename\u001b[0;34m(self, filename, mode, overwrite)\u001b[0m\n\u001b[1;32m    572\u001b[0m \u001b[0;34m\u001b[0m\u001b[0m\n\u001b[1;32m    573\u001b[0m         \u001b[0;32mif\u001b[0m \u001b[0;32mnot\u001b[0m \u001b[0mself\u001b[0m\u001b[0;34m.\u001b[0m\u001b[0m_try_read_compressed\u001b[0m\u001b[0;34m(\u001b[0m\u001b[0mself\u001b[0m\u001b[0;34m.\u001b[0m\u001b[0mname\u001b[0m\u001b[0;34m,\u001b[0m \u001b[0mmagic\u001b[0m\u001b[0;34m,\u001b[0m \u001b[0mmode\u001b[0m\u001b[0;34m,\u001b[0m \u001b[0mext\u001b[0m\u001b[0;34m=\u001b[0m\u001b[0mext\u001b[0m\u001b[0;34m)\u001b[0m\u001b[0;34m:\u001b[0m\u001b[0;34m\u001b[0m\u001b[0;34m\u001b[0m\u001b[0m\n\u001b[0;32m--> 574\u001b[0;31m             \u001b[0mself\u001b[0m\u001b[0;34m.\u001b[0m\u001b[0m_file\u001b[0m \u001b[0;34m=\u001b[0m \u001b[0mfileobj_open\u001b[0m\u001b[0;34m(\u001b[0m\u001b[0mself\u001b[0m\u001b[0;34m.\u001b[0m\u001b[0mname\u001b[0m\u001b[0;34m,\u001b[0m \u001b[0mIO_FITS_MODES\u001b[0m\u001b[0;34m[\u001b[0m\u001b[0mmode\u001b[0m\u001b[0;34m]\u001b[0m\u001b[0;34m)\u001b[0m\u001b[0;34m\u001b[0m\u001b[0;34m\u001b[0m\u001b[0m\n\u001b[0m\u001b[1;32m    575\u001b[0m             \u001b[0mself\u001b[0m\u001b[0;34m.\u001b[0m\u001b[0mclose_on_error\u001b[0m \u001b[0;34m=\u001b[0m \u001b[0;32mTrue\u001b[0m\u001b[0;34m\u001b[0m\u001b[0;34m\u001b[0m\u001b[0m\n\u001b[1;32m    576\u001b[0m \u001b[0;34m\u001b[0m\u001b[0m\n",
            "\u001b[0;32m/usr/local/lib/python3.6/dist-packages/astropy/io/fits/util.py\u001b[0m in \u001b[0;36mfileobj_open\u001b[0;34m(filename, mode)\u001b[0m\n\u001b[1;32m    394\u001b[0m     \"\"\"\n\u001b[1;32m    395\u001b[0m \u001b[0;34m\u001b[0m\u001b[0m\n\u001b[0;32m--> 396\u001b[0;31m     \u001b[0;32mreturn\u001b[0m \u001b[0mopen\u001b[0m\u001b[0;34m(\u001b[0m\u001b[0mfilename\u001b[0m\u001b[0;34m,\u001b[0m \u001b[0mmode\u001b[0m\u001b[0;34m,\u001b[0m \u001b[0mbuffering\u001b[0m\u001b[0;34m=\u001b[0m\u001b[0;36m0\u001b[0m\u001b[0;34m)\u001b[0m\u001b[0;34m\u001b[0m\u001b[0;34m\u001b[0m\u001b[0m\n\u001b[0m\u001b[1;32m    397\u001b[0m \u001b[0;34m\u001b[0m\u001b[0m\n\u001b[1;32m    398\u001b[0m \u001b[0;34m\u001b[0m\u001b[0m\n",
            "\u001b[0;31mFileNotFoundError\u001b[0m: [Errno 2] No such file or directory: '/srv/data/my_shared_data_folder/fits/VLASSimage.fits'"
          ]
        }
      ]
    },
    {
      "cell_type": "code",
      "metadata": {
        "id": "ak-thUaHvQN3",
        "colab_type": "code",
        "colab": {
          "base_uri": "https://localhost:8080/",
          "height": 248
        },
        "outputId": "5074d961-4a1d-400c-a34c-0effc9bb3e3d"
      },
      "source": [
        "#display full fits image \n",
        "\n",
        "fig = plt.figure(facecolor='w', edgecolor='w', frameon=True, figsize=(20,18))\n",
        "pt = aplpy.FITSFigure(VFIT, figure=fig)\n",
        "\n",
        "pt.show_colorscale(cmap='magma', vmin=-.0001, vmax=0.0008)\n",
        "pt.add_grid()\n",
        "pt.grid.show()\n",
        "pt.set_title(os.path.basename(VFIT))\n",
        "\n",
        "fig.canvas.draw()\n"
      ],
      "execution_count": null,
      "outputs": [
        {
          "output_type": "error",
          "ename": "NameError",
          "evalue": "ignored",
          "traceback": [
            "\u001b[0;31m---------------------------------------------------------------------------\u001b[0m",
            "\u001b[0;31mNameError\u001b[0m                                 Traceback (most recent call last)",
            "\u001b[0;32m<ipython-input-7-28bbdbd7bb8e>\u001b[0m in \u001b[0;36m<module>\u001b[0;34m()\u001b[0m\n\u001b[1;32m      2\u001b[0m \u001b[0;34m\u001b[0m\u001b[0m\n\u001b[1;32m      3\u001b[0m \u001b[0mfig\u001b[0m \u001b[0;34m=\u001b[0m \u001b[0mplt\u001b[0m\u001b[0;34m.\u001b[0m\u001b[0mfigure\u001b[0m\u001b[0;34m(\u001b[0m\u001b[0mfacecolor\u001b[0m\u001b[0;34m=\u001b[0m\u001b[0;34m'w'\u001b[0m\u001b[0;34m,\u001b[0m \u001b[0medgecolor\u001b[0m\u001b[0;34m=\u001b[0m\u001b[0;34m'w'\u001b[0m\u001b[0;34m,\u001b[0m \u001b[0mframeon\u001b[0m\u001b[0;34m=\u001b[0m\u001b[0;32mTrue\u001b[0m\u001b[0;34m,\u001b[0m \u001b[0mfigsize\u001b[0m\u001b[0;34m=\u001b[0m\u001b[0;34m(\u001b[0m\u001b[0;36m20\u001b[0m\u001b[0;34m,\u001b[0m\u001b[0;36m18\u001b[0m\u001b[0;34m)\u001b[0m\u001b[0;34m)\u001b[0m\u001b[0;34m\u001b[0m\u001b[0;34m\u001b[0m\u001b[0m\n\u001b[0;32m----> 4\u001b[0;31m \u001b[0mpt\u001b[0m \u001b[0;34m=\u001b[0m \u001b[0maplpy\u001b[0m\u001b[0;34m.\u001b[0m\u001b[0mFITSFigure\u001b[0m\u001b[0;34m(\u001b[0m\u001b[0mVFIT\u001b[0m\u001b[0;34m,\u001b[0m \u001b[0mfigure\u001b[0m\u001b[0;34m=\u001b[0m\u001b[0mfig\u001b[0m\u001b[0;34m)\u001b[0m\u001b[0;34m\u001b[0m\u001b[0;34m\u001b[0m\u001b[0m\n\u001b[0m\u001b[1;32m      5\u001b[0m \u001b[0;34m\u001b[0m\u001b[0m\n\u001b[1;32m      6\u001b[0m \u001b[0mpt\u001b[0m\u001b[0;34m.\u001b[0m\u001b[0mshow_colorscale\u001b[0m\u001b[0;34m(\u001b[0m\u001b[0mcmap\u001b[0m\u001b[0;34m=\u001b[0m\u001b[0;34m'magma'\u001b[0m\u001b[0;34m,\u001b[0m \u001b[0mvmin\u001b[0m\u001b[0;34m=\u001b[0m\u001b[0;34m-\u001b[0m\u001b[0;36m.0001\u001b[0m\u001b[0;34m,\u001b[0m \u001b[0mvmax\u001b[0m\u001b[0;34m=\u001b[0m\u001b[0;36m0.0008\u001b[0m\u001b[0;34m)\u001b[0m\u001b[0;34m\u001b[0m\u001b[0;34m\u001b[0m\u001b[0m\n",
            "\u001b[0;31mNameError\u001b[0m: name 'aplpy' is not defined"
          ]
        },
        {
          "output_type": "display_data",
          "data": {
            "text/plain": [
              "<Figure size 1440x1296 with 0 Axes>"
            ]
          },
          "metadata": {
            "tags": []
          }
        }
      ]
    },
    {
      "cell_type": "markdown",
      "metadata": {
        "colab_type": "text",
        "id": "6u1MIFJeXWY8"
      },
      "source": [
        "<h2 style=\"color:SeaGreen\"> World Coordinate System </h2> \n",
        "<a id=\"six\"></a>"
      ]
    },
    {
      "cell_type": "markdown",
      "metadata": {
        "id": "BlQ_W0RoDmyL",
        "colab_type": "text"
      },
      "source": [
        "<p style=\"text-indent: 50px; font-size:16px;\">The next task is to create a world coordinate system. Images that we can see with our eye are made up of pixels on a giant 2D array. <b><u> To convert data from a FITS file to a 2D image you must make use of a pixel-to-world coordinate system</u></b>. More simply, you have to map out each pixel on the image to correspond with a certain distance in space, and if you do it according to cooridnates you already know, the image should return any galatic phenomena that are present in the image.  </p>\n",
        "\n",
        "<p style=\"text-indent: 50px; font-size:16px;\"> <b><u>The units we will be corresponding to our pixels are Right Ascention and Declenation</u></b>. Essentially these are units like latitiude or longitude but used to map out locations in the enire galaxy. There is a short video explination below, but <b><u>just know that the variables RA and DEC are used to locate objects in the galaxy</u></b>. For our image today, we have a very specific RA and DEC of a Galaxy we will investigate, so those variables will be given. Half-With will be used to make a cutout of the retuned image so that it only displays the galaxy at hand. </p>"
      ]
    },
    {
      "cell_type": "code",
      "metadata": {
        "id": "lt90pLvjDmyL",
        "colab_type": "code",
        "colab": {
          "base_uri": "https://localhost:8080/",
          "height": 521
        },
        "outputId": "ec01de5d-653e-4a29-9838-0cf308f23bd2"
      },
      "source": [
        "from IPython.display import YouTubeVideo\n",
        "YouTubeVideo('0RqDUOSf4ts', width=1000, height=500)"
      ],
      "execution_count": null,
      "outputs": [
        {
          "output_type": "execute_result",
          "data": {
            "text/html": [
              "\n",
              "        <iframe\n",
              "            width=\"1000\"\n",
              "            height=\"500\"\n",
              "            src=\"https://www.youtube.com/embed/0RqDUOSf4ts\"\n",
              "            frameborder=\"0\"\n",
              "            allowfullscreen\n",
              "        ></iframe>\n",
              "        "
            ],
            "text/plain": [
              "<IPython.lib.display.YouTubeVideo at 0x7fd1fa98f780>"
            ],
            "image/jpeg": "[encoded data removed]"
          },
          "metadata": {
            "tags": []
          },
          "execution_count": 3
        }
      ]
    },
    {
      "cell_type": "code",
      "metadata": {
        "id": "TARQRt4bDmyN",
        "colab_type": "code",
        "colab": {}
      },
      "source": [
        "# GIVEN VARIABLES are for the position of the galaxy -------------------------------\n",
        "RA =   ( 10.0 +33.0/60.0  +50.00/3600.0) * 15.0\n",
        "DEC = -(25.0 +37.0/60.0 +00.00/3600.0)\n",
        "HALF_Width = 148  #(92 pixels is approx. 1.5 arcminutes)"
      ],
      "execution_count": null,
      "outputs": []
    },
    {
      "cell_type": "markdown",
      "metadata": {
        "id": "Q6w7M17yDmyP",
        "colab_type": "text"
      },
      "source": [
        "<p style=\"text-indent: 50px; font-size:16px;\">The next step is to create the actual coordinate system. Once this is done, we can also create a coordinate array of the world. These two things will come together to map RA and DEC values to pixels on an image in the third section. "
      ]
    },
    {
      "cell_type": "code",
      "metadata": {
        "id": "5gsWxYO0DmyP",
        "colab_type": "code",
        "colab": {}
      },
      "source": [
        "#Create coordinates for the world, and put them in an array\n",
        "w = wcs.WCS(hdu[0].header)\n",
        "\n",
        "#Create world array \n",
        "worldarray = np.array([[RA, DEC, 0.0, 0.0]], np.float_)\n",
        "print(worldarray)\n",
        "\n",
        "#Combine World Array and WCS \n",
        "Pixel_Coord = w.wcs_world2pix(worldarray,1)\n",
        "x = int(round(Pixel_Coord[0][1]))\n",
        "y = int(round(Pixel_Coord[0][0]))\n"
      ],
      "execution_count": null,
      "outputs": []
    },
    {
      "cell_type": "markdown",
      "metadata": {
        "id": "TaUS1NszDmyR",
        "colab_type": "text"
      },
      "source": [
        "<p style=\"text-indent: 50px; font-size:16px;\"> The final step in creating the cooridnate image display would be to make a cutout. <b><u> A cutout sizes the image that you will see</u></b> based on the 'Half_Width' variable seen up above. This variable uses pixels which now represent RA and DEC values due to the previous code cell. We can create the cutout by taking the X,Y center and add a half width on either side in either direction. "
      ]
    },
    {
      "cell_type": "code",
      "metadata": {
        "colab_type": "code",
        "id": "Ox30O3usSprU",
        "colab": {}
      },
      "source": [
        "lower_x = x - HALF_Width\n",
        "upper_x = x + HALF_Width\n",
        "lower_y = y - HALF_Width\n",
        "upper_y = y + HALF_Width\n",
        "\n",
        "\n",
        "vlasscutout = VFIT_raw[lower_x:upper_x,lower_y:upper_y]"
      ],
      "execution_count": null,
      "outputs": []
    },
    {
      "cell_type": "markdown",
      "metadata": {
        "id": "ez4pggTmDmyU",
        "colab_type": "text"
      },
      "source": [
        "<h2 style=\"color:SeaGreen\"> Displaying the FITS IMAGE\n",
        "    <a id=\"seven\"></a>"
      ]
    },
    {
      "cell_type": "markdown",
      "metadata": {
        "id": "WOwbLsH7DmyV",
        "colab_type": "text"
      },
      "source": [
        "<h3 style=\"color:LightSeaGreen\"> Using MATPLOTLIB </h3>\n",
        "<a id=\"seven1\"></a>"
      ]
    },
    {
      "cell_type": "code",
      "metadata": {
        "id": "wl3DoEyMDmyV",
        "colab_type": "code",
        "colab": {}
      },
      "source": [
        "fig = plt.figure(figsize=(10,3), facecolor='white', edgecolor='black')\n",
        "ax1 = fig.add_subplot(131)\n",
        "ax1.imshow(vlasscutout, origin='lower', cmap='inferno')\n",
        "plt.title('MATPLOTLIB VLASS')"
      ],
      "execution_count": null,
      "outputs": []
    },
    {
      "cell_type": "markdown",
      "metadata": {
        "colab_type": "text",
        "id": "9nAyJB5EYABR"
      },
      "source": [
        "<h3 style=\"color:LightSeaGreen\"> Using AplPy </h3> \n",
        "<a id=\"seven2\"></a>"
      ]
    },
    {
      "cell_type": "code",
      "metadata": {
        "id": "MPF13ssRD1wv",
        "colab_type": "code",
        "colab": {}
      },
      "source": [
        "#display full fits image \n",
        "\n",
        "fig = plt.figure(facecolor='w', edgecolor='w', frameon=True, figsize=(20,18))\n",
        "pt = aplpy.FITSFigure(VFIT, figure=fig)\n",
        "\n",
        "pt.show_colorscale(cmap='magma', vmin=-.0001, vmax=0.0008)\n",
        "pt.add_grid()\n",
        "pt.grid.show()\n",
        "pt.set_title(os.path.basename(VFIT))\n",
        "\n",
        "fig.canvas.draw()"
      ],
      "execution_count": null,
      "outputs": []
    },
    {
      "cell_type": "code",
      "metadata": {
        "id": "tIZAXfGT6wYv",
        "colab_type": "code",
        "colab": {}
      },
      "source": [
        "#display cutout fits image\n",
        "fig2 = plt.figure(facecolor='w', edgecolor='w', frameon=True, figsize=(10,9))\n",
        "ax = aplpy.FITSFigure(vlasscutout, figure=fig2)\n",
        "\n",
        "ax.show_colorscale(cmap='magma', vmin=-0.0001, vmax=0.0008)\n",
        "ax.add_grid()\n",
        "\n",
        "ax.set_title(os.path.basename('APPLEPY VLASS'))\n",
        "\n",
        "fig.canvas.draw()"
      ],
      "execution_count": null,
      "outputs": []
    }
  ]
}